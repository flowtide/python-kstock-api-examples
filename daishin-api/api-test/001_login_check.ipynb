{
 "cells": [
  {
   "cell_type": "markdown",
   "metadata": {},
   "source": [
    "## API 사용을 위해서는 반드시 Cybos Plus로 로그인함\n",
    "![Cybos Plus Login](001_cybos_plus_login.png)  \n",
    "**MS code로 실행시 반드시 관리자 모드로 실행해야 됨**"
   ]
  },
  {
   "cell_type": "code",
   "execution_count": 1,
   "metadata": {},
   "outputs": [
    {
     "name": "stdout",
     "output_type": "stream",
     "text": [
      "1\n"
     ]
    }
   ],
   "source": [
    "import win32com.client\n",
    "# 연결 상태 확인\n",
    "instCpCybos = win32com.client.Dispatch(\"CpUtil.CpCybos\")\n",
    "print(instCpCybos.IsConnect)"
   ]
  },
  {
   "cell_type": "markdown",
   "metadata": {},
   "source": []
  }
 ],
 "metadata": {
  "interpreter": {
   "hash": "c271ceb8919d18ea694b98be402c9a410cb748b8695b62e35a36db49454c2c62"
  },
  "kernelspec": {
   "display_name": "Python 3.7.10 32-bit ('py37_32': conda)",
   "name": "python3"
  },
  "language_info": {
   "codemirror_mode": {
    "name": "ipython",
    "version": 3
   },
   "file_extension": ".py",
   "mimetype": "text/x-python",
   "name": "python",
   "nbconvert_exporter": "python",
   "pygments_lexer": "ipython3",
   "version": "3.9.7"
  },
  "orig_nbformat": 4
 },
 "nbformat": 4,
 "nbformat_minor": 2
}
