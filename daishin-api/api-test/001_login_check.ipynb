{
 "cells": [
  {
   "cell_type": "markdown",
   "source": [
    "## API 사용을 위해서는 반드시 Cybos Plus로 로그인함\r\n",
    "![Cybos Plus Login](001_cybos_plus_login.png)  \r\n",
    "**MS code로 실행시 반드시 관리자 모드로 실행해야 됨**"
   ],
   "metadata": {}
  },
  {
   "cell_type": "code",
   "execution_count": 1,
   "source": [
    "import win32com.client\r\n",
    "# 연결 상태 확인\r\n",
    "instCpCybos = win32com.client.Dispatch(\"CpUtil.CpCybos\")\r\n",
    "print(instCpCybos.IsConnect)"
   ],
   "outputs": [
    {
     "output_type": "stream",
     "name": "stdout",
     "text": [
      "1\n"
     ]
    }
   ],
   "metadata": {}
  },
  {
   "cell_type": "markdown",
   "source": [],
   "metadata": {}
  }
 ],
 "metadata": {
  "orig_nbformat": 4,
  "language_info": {
   "name": "python",
   "version": "3.7.10",
   "mimetype": "text/x-python",
   "codemirror_mode": {
    "name": "ipython",
    "version": 3
   },
   "pygments_lexer": "ipython3",
   "nbconvert_exporter": "python",
   "file_extension": ".py"
  },
  "kernelspec": {
   "name": "python3",
   "display_name": "Python 3.7.10 32-bit ('py37_32': conda)"
  },
  "interpreter": {
   "hash": "c271ceb8919d18ea694b98be402c9a410cb748b8695b62e35a36db49454c2c62"
  }
 },
 "nbformat": 4,
 "nbformat_minor": 2
}