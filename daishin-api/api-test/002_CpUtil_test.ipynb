{
 "cells": [
  {
   "cell_type": "code",
   "execution_count": 1,
   "source": [
    "import win32com.client\r\n",
    "\r\n",
    "instCpCodeMgr = win32com.client.Dispatch(\"CpUtil.CpCodeMgr\")"
   ],
   "outputs": [],
   "metadata": {}
  },
  {
   "cell_type": "markdown",
   "source": [
    "## 주식 종목 코드 얻는 방법\r\n",
    "1) `GetStockListByMarket(1)` 호출하여 튜플형태의 종목 코드 목록 얻음\r\n",
    "2) 각 코드로 `instCpCodeMgr.GetStockSectionKind(symbol)` 호출해서 구분 코드 얻어 코드 1번인 주권인지 파악\r\n",
    "GetStockListByMarket(1) 호출하여 유가증권시장의 종목을 파이썬 튜플 형태로 반환받을수 있다.\r\n",
    "주식 코드 리스트에는 ETF(Exchange Traded Fund)와 ETN(Exchange Traded Note)도 포함돼 있다.\r\n",
    "유가증권에는 주식과 ETN이 있으며 종목코드 앞 A를 때면 주식, Q이면 ETN 임\r\n",
    "instCpCodeMgr.GetStockSectionKind()를 통해 구분을 할수 있으며\r\n",
    "1번이 주권, 10번이 ETF, 17번이 ETN이다."
   ],
   "metadata": {}
  },
  {
   "cell_type": "code",
   "execution_count": 20,
   "source": [
    "symbols = instCpCodeMgr.GetStockListByMarket(1)\r\n",
    "print(f'num_symbols={len(symbols)} {symbols[:10]}')\r\n",
    "print(f'symbol={symbols[0]}) {instCpCodeMgr.GetStockSectionKind(symbols[0])}')\r\n",
    "not_a = list(filter(lambda x: x[0] != 'A', symbols))\r\n",
    "print(f'not_A={len(not_a)}', not_a[:10])\r\n",
    "print(f'symbol={not_a[0]}) {instCpCodeMgr.CodeToName(not_a[0])}')\r\n",
    "print(f'symbol={not_a[0]}) {instCpCodeMgr.GetStockSectionKind(not_a[0])}')"
   ],
   "outputs": [
    {
     "output_type": "stream",
     "name": "stdout",
     "text": [
      "num_symbols=1635 ('A000020', 'A000040', 'A000050', 'A000060', 'A000070', 'A000075', 'A000080', 'A000087', 'A000100', 'A000105')\n",
      "symbol=A000020) 1\n",
      "not_A=197) ['Q500001', 'Q500002', 'Q500003', 'Q500004', 'Q500005', 'Q500006', 'Q500007', 'Q500008', 'Q500009', 'Q500010']\n",
      "symbol=Q500001) 신한 K200 USD 선물 바이셀 ETN\n",
      "symbol=Q500001) 17\n"
     ]
    }
   ],
   "metadata": {}
  },
  {
   "cell_type": "markdown",
   "source": [
    "# CpUtil.CpStockCode\r\n"
   ],
   "metadata": {}
  },
  {
   "cell_type": "code",
   "execution_count": 7,
   "source": [
    "instCpStockCode = win32com.client.Dispatch(\"CpUtil.CpStockCode\")"
   ],
   "outputs": [],
   "metadata": {}
  },
  {
   "cell_type": "markdown",
   "source": [
    "alue = object.GetData(type,index)\r\n",
    "해당 인덱스의 종목 데이터를 구한다\r\n",
    "type: 데이터 종류\r\n",
    "0 - 종목코드\r\n",
    "1 - 종목명\r\n",
    "2 - FullCode\r\n",
    "index: : 종목코드 인덱스\r\n",
    "반환값: 해당데이터"
   ],
   "metadata": {}
  },
  {
   "cell_type": "code",
   "execution_count": 9,
   "source": [
    "print(f'instCpStockCode.GetCount()={instCpStockCode.GetCount()}')\r\n",
    "print(f'instCpStockCode.GetData(0, 0)={instCpStockCode.GetData(0, 0)}')\r\n",
    "print(f'instCpStockCode.GetData(1, 0)={instCpStockCode.GetData(1, 0)}')\r\n",
    "print(f'instCpStockCode.GetData(2, 0)={instCpStockCode.GetData(2, 0)}')"
   ],
   "outputs": [
    {
     "output_type": "stream",
     "name": "stdout",
     "text": [
      "instCpStockCode.GetCount()=3419\n",
      "instCpStockCode.GetData(0, 0)=A000020\n",
      "instCpStockCode.GetData(1, 0)=동화약품\n",
      "instCpStockCode.GetData(2, 0)=KR7000020008\n"
     ]
    }
   ],
   "metadata": {}
  }
 ],
 "metadata": {
  "orig_nbformat": 4,
  "language_info": {
   "name": "python",
   "version": "3.7.10",
   "mimetype": "text/x-python",
   "codemirror_mode": {
    "name": "ipython",
    "version": 3
   },
   "pygments_lexer": "ipython3",
   "nbconvert_exporter": "python",
   "file_extension": ".py"
  },
  "kernelspec": {
   "name": "python3",
   "display_name": "Python 3.7.10 32-bit ('py37_32': conda)"
  },
  "interpreter": {
   "hash": "c271ceb8919d18ea694b98be402c9a410cb748b8695b62e35a36db49454c2c62"
  }
 },
 "nbformat": 4,
 "nbformat_minor": 2
}