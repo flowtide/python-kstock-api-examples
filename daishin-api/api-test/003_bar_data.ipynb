{
 "cells": [
  {
   "cell_type": "markdown",
   "source": [
    "### 과거 봉 데이터 구하기\r\n",
    "참고: [https://wikidocs.net/3684](https://wikidocs.net/3684)"
   ],
   "metadata": {}
  },
  {
   "cell_type": "code",
   "execution_count": 25,
   "source": [
    "import win32com.client\r\n",
    "from datetime import date, datetime\r\n",
    "import pandas as pd\r\n",
    "#import matplotlib.pyplot as plt"
   ],
   "outputs": [
    {
     "output_type": "error",
     "ename": "ImportError",
     "evalue": "DLL load failed: 지정된 프로시저를 찾을 수 없습니다.",
     "traceback": [
      "\u001b[1;31m---------------------------------------------------------------------------\u001b[0m",
      "\u001b[1;31mImportError\u001b[0m                               Traceback (most recent call last)",
      "\u001b[1;32m<ipython-input-25-e266fc960757>\u001b[0m in \u001b[0;36m<module>\u001b[1;34m\u001b[0m\n\u001b[0;32m      2\u001b[0m \u001b[1;32mfrom\u001b[0m \u001b[0mdatetime\u001b[0m \u001b[1;32mimport\u001b[0m \u001b[0mdate\u001b[0m\u001b[1;33m,\u001b[0m \u001b[0mdatetime\u001b[0m\u001b[1;33m\u001b[0m\u001b[1;33m\u001b[0m\u001b[0m\n\u001b[0;32m      3\u001b[0m \u001b[1;32mimport\u001b[0m \u001b[0mpandas\u001b[0m \u001b[1;32mas\u001b[0m \u001b[0mpd\u001b[0m\u001b[1;33m\u001b[0m\u001b[1;33m\u001b[0m\u001b[0m\n\u001b[1;32m----> 4\u001b[1;33m \u001b[1;32mimport\u001b[0m \u001b[0mmatplotlib\u001b[0m\u001b[1;33m.\u001b[0m\u001b[0mpyplot\u001b[0m \u001b[1;32mas\u001b[0m \u001b[0mplt\u001b[0m\u001b[1;33m\u001b[0m\u001b[1;33m\u001b[0m\u001b[0m\n\u001b[0m",
      "\u001b[1;32m~\\anaconda3\\envs\\py37_32\\lib\\site-packages\\matplotlib\\__init__.py\u001b[0m in \u001b[0;36m<module>\u001b[1;34m\u001b[0m\n\u001b[0;32m    172\u001b[0m \u001b[1;33m\u001b[0m\u001b[0m\n\u001b[0;32m    173\u001b[0m \u001b[1;33m\u001b[0m\u001b[0m\n\u001b[1;32m--> 174\u001b[1;33m \u001b[0m_check_versions\u001b[0m\u001b[1;33m(\u001b[0m\u001b[1;33m)\u001b[0m\u001b[1;33m\u001b[0m\u001b[1;33m\u001b[0m\u001b[0m\n\u001b[0m\u001b[0;32m    175\u001b[0m \u001b[1;33m\u001b[0m\u001b[0m\n\u001b[0;32m    176\u001b[0m \u001b[1;33m\u001b[0m\u001b[0m\n",
      "\u001b[1;32m~\\anaconda3\\envs\\py37_32\\lib\\site-packages\\matplotlib\\__init__.py\u001b[0m in \u001b[0;36m_check_versions\u001b[1;34m()\u001b[0m\n\u001b[0;32m    157\u001b[0m     \u001b[1;31m# Quickfix to ensure Microsoft Visual C++ redistributable\u001b[0m\u001b[1;33m\u001b[0m\u001b[1;33m\u001b[0m\u001b[1;33m\u001b[0m\u001b[0m\n\u001b[0;32m    158\u001b[0m     \u001b[1;31m# DLLs are loaded before importing kiwisolver\u001b[0m\u001b[1;33m\u001b[0m\u001b[1;33m\u001b[0m\u001b[1;33m\u001b[0m\u001b[0m\n\u001b[1;32m--> 159\u001b[1;33m     \u001b[1;32mfrom\u001b[0m \u001b[1;33m.\u001b[0m \u001b[1;32mimport\u001b[0m \u001b[0mft2font\u001b[0m\u001b[1;33m\u001b[0m\u001b[1;33m\u001b[0m\u001b[0m\n\u001b[0m\u001b[0;32m    160\u001b[0m \u001b[1;33m\u001b[0m\u001b[0m\n\u001b[0;32m    161\u001b[0m     for modname, minver in [\n",
      "\u001b[1;31mImportError\u001b[0m: DLL load failed: 지정된 프로시저를 찾을 수 없습니다."
     ]
    }
   ],
   "metadata": {}
  },
  {
   "cell_type": "code",
   "execution_count": 3,
   "source": [
    "instStockChart = win32com.client.Dispatch(\"CpSysDib.StockChart\")"
   ],
   "outputs": [],
   "metadata": {}
  },
  {
   "cell_type": "code",
   "execution_count": 4,
   "source": [
    "symbol = 'A003540'"
   ],
   "outputs": [],
   "metadata": {}
  },
  {
   "cell_type": "markdown",
   "source": [
    "* `5` 조회 필드\r\n",
    "```\r\n",
    "0: 날짜(ulong)\r\n",
    "1:시간(long) - hhmm\r\n",
    "2:시가(long or float)\r\n",
    "3:고가(long or float)\r\n",
    "4:저가(long or float)\r\n",
    "5:종가(long or float)\r\n",
    "6:전일대비(long or float) - 주) 대비부호(37)과 반드시 같이 요청해야 함\r\n",
    "8:거래량(ulong or ulonglong) 주) 정밀도 만원 단위\r\n",
    "9:거래대금(ulonglong)\r\n",
    "10:누적체결매도수량(ulong or ulonglong) - 호가비교방식 누적체결매도수량\r\n",
    "11:누적체결매수수량(ulong or ulonglong) - 호가비교방식 누적체결매수수량\r\n",
    " (주) 10, 11 필드는 분,틱 요청일 때만 제공\r\n",
    "12:상장주식수(ulonglong)\r\n",
    "13:시가총액(ulonglong)\r\n",
    "14:외국인주문한도수량(ulong)\r\n",
    "15:외국인주문가능수량(ulong)\r\n",
    "16:외국인현보유수량(ulong)\r\n",
    "17:외국인현보유비율(float)\r\n",
    "18:수정주가일자(ulong) - YYYYMMDD\r\n",
    "19:수정주가비율(float)\r\n",
    "20:기관순매수(long)\r\n",
    "21:기관누적순매수(long)\r\n",
    "22:등락주선(long)\r\n",
    "23:등락비율(float)\r\n",
    "24:예탁금(ulonglong)\r\n",
    "25:주식회전율(float)\r\n",
    "26:거래성립률(float)\r\n",
    "37:대비부호(char) - 수신값은 GetHeaderValue 8 대비부호와 동일\r\n",
    "```"
   ],
   "metadata": {}
  },
  {
   "cell_type": "code",
   "execution_count": 5,
   "source": [
    "instStockChart.SetInputValue(0, symbol)\r\n",
    "instStockChart.SetInputValue(1, ord('2')) # '1': 기간요청, '2': 개수로 요청\r\n",
    "instStockChart.SetInputValue(4, 10) # 요청 데이터 개수: 최근 10일치\r\n",
    "instStockChart.SetInputValue(5, 5) # 조회 필드 선택\r\n",
    "instStockChart.SetInputValue(6, ord('D')) # 차트구분: D(일), W(주), M(월), m(분), T(틱)\r\n",
    "instStockChart.SetInputValue(9, ord('1'))"
   ],
   "outputs": [],
   "metadata": {}
  },
  {
   "cell_type": "code",
   "execution_count": 6,
   "source": [
    "# 블록킹 방식으로 데이터를 요청함\r\n",
    "instStockChart.BlockRequest()\r\n",
    "# 서버로부터 데이터를 얻을때는 GetHeaderValue와 GetDataValue 메소드를 사용한다."
   ],
   "outputs": [
    {
     "output_type": "execute_result",
     "data": {
      "text/plain": [
       "0"
      ]
     },
     "metadata": {},
     "execution_count": 6
    }
   ],
   "metadata": {}
  },
  {
   "cell_type": "code",
   "execution_count": 12,
   "source": [
    "# 레코드 갯수를 구함\r\n",
    "num_data = instStockChart.GetHeaderValue(3)\r\n",
    "num_field = instStockChart.GetHeaderValue(1)\r\n",
    "print(num_data, num_field)"
   ],
   "outputs": [
    {
     "output_type": "stream",
     "name": "stdout",
     "text": [
      "10 1\n"
     ]
    }
   ],
   "metadata": {}
  },
  {
   "cell_type": "code",
   "execution_count": 11,
   "source": [
    "for i in range(num_data):\r\n",
    "    print(instStockChart.GetDataValue(0, i))"
   ],
   "outputs": [
    {
     "output_type": "stream",
     "name": "stdout",
     "text": [
      "21300\n",
      "21300\n",
      "21200\n",
      "20450\n",
      "20100\n",
      "19600\n",
      "19500\n",
      "19350\n",
      "19400\n",
      "19300\n"
     ]
    }
   ],
   "metadata": {}
  },
  {
   "cell_type": "code",
   "execution_count": 16,
   "source": [
    "# 시가, 고가, 저가, 종가 거래량을 구하기\r\n",
    "instStockChart.SetInputValue(5, (0, 2, 3, 4, 5, 8))\r\n",
    "instStockChart.BlockRequest() # 재요청\r\n",
    "num_data = instStockChart.GetHeaderValue(3)\r\n",
    "num_field = instStockChart.GetHeaderValue(1)"
   ],
   "outputs": [],
   "metadata": {}
  },
  {
   "cell_type": "code",
   "execution_count": 22,
   "source": [
    "ds = {\r\n",
    "    'date': [],\r\n",
    "    'open': [],\r\n",
    "    'high': [],\r\n",
    "    'low': [],\r\n",
    "    'close': [],\r\n",
    "    'value': [],\r\n",
    "}\r\n",
    "for i in range(num_data):\r\n",
    "    for j in range(num_field):\r\n",
    "        print(instStockChart.GetDataValue(j, i), end=\" \")\r\n",
    "    print(\"\")\r\n",
    "    dt_val = instStockChart.GetDataValue(0, i)\r\n",
    "    dt = datetime(int(dt_val/10000), int((dt_val%10000)/100), dt_val % 100)\r\n",
    "    ds['date'].append(dt)\r\n",
    "    ds['open'].append(instStockChart.GetDataValue(1, i))\r\n",
    "    ds['high'].append(instStockChart.GetDataValue(2, i))\r\n",
    "    ds['low'].append(instStockChart.GetDataValue(3, i))\r\n",
    "    ds['close'].append(instStockChart.GetDataValue(4, i))\r\n",
    "    ds['value'].append(instStockChart.GetDataValue(5, i))"
   ],
   "outputs": [
    {
     "output_type": "stream",
     "name": "stdout",
     "text": [
      "20210916 21300 21500 21250 21500 5801 \n",
      "20210915 21250 21500 20950 21300 188349 \n",
      "20210914 20550 21300 20550 21200 315382 \n",
      "20210913 20100 20500 20100 20450 212387 \n",
      "20210910 19650 20150 19550 20100 230870 \n",
      "20210909 19400 19700 19350 19600 141276 \n",
      "20210908 19250 19500 19200 19500 153052 \n",
      "20210907 19400 19400 19200 19350 55682 \n",
      "20210906 19250 19400 19200 19400 64933 \n",
      "20210903 19150 19400 19100 19300 141864 \n"
     ]
    }
   ],
   "metadata": {}
  },
  {
   "cell_type": "code",
   "execution_count": 23,
   "source": [
    "df = pd.DataFrame(ds)\r\n",
    "df"
   ],
   "outputs": [
    {
     "output_type": "execute_result",
     "data": {
      "text/html": [
       "<div>\n",
       "<style scoped>\n",
       "    .dataframe tbody tr th:only-of-type {\n",
       "        vertical-align: middle;\n",
       "    }\n",
       "\n",
       "    .dataframe tbody tr th {\n",
       "        vertical-align: top;\n",
       "    }\n",
       "\n",
       "    .dataframe thead th {\n",
       "        text-align: right;\n",
       "    }\n",
       "</style>\n",
       "<table border=\"1\" class=\"dataframe\">\n",
       "  <thead>\n",
       "    <tr style=\"text-align: right;\">\n",
       "      <th></th>\n",
       "      <th>date</th>\n",
       "      <th>open</th>\n",
       "      <th>high</th>\n",
       "      <th>low</th>\n",
       "      <th>close</th>\n",
       "      <th>value</th>\n",
       "    </tr>\n",
       "  </thead>\n",
       "  <tbody>\n",
       "    <tr>\n",
       "      <th>0</th>\n",
       "      <td>2021-09-16</td>\n",
       "      <td>21300</td>\n",
       "      <td>21500</td>\n",
       "      <td>21250</td>\n",
       "      <td>21500</td>\n",
       "      <td>5801</td>\n",
       "    </tr>\n",
       "    <tr>\n",
       "      <th>1</th>\n",
       "      <td>2021-09-15</td>\n",
       "      <td>21250</td>\n",
       "      <td>21500</td>\n",
       "      <td>20950</td>\n",
       "      <td>21300</td>\n",
       "      <td>188349</td>\n",
       "    </tr>\n",
       "    <tr>\n",
       "      <th>2</th>\n",
       "      <td>2021-09-14</td>\n",
       "      <td>20550</td>\n",
       "      <td>21300</td>\n",
       "      <td>20550</td>\n",
       "      <td>21200</td>\n",
       "      <td>315382</td>\n",
       "    </tr>\n",
       "    <tr>\n",
       "      <th>3</th>\n",
       "      <td>2021-09-13</td>\n",
       "      <td>20100</td>\n",
       "      <td>20500</td>\n",
       "      <td>20100</td>\n",
       "      <td>20450</td>\n",
       "      <td>212387</td>\n",
       "    </tr>\n",
       "    <tr>\n",
       "      <th>4</th>\n",
       "      <td>2021-09-10</td>\n",
       "      <td>19650</td>\n",
       "      <td>20150</td>\n",
       "      <td>19550</td>\n",
       "      <td>20100</td>\n",
       "      <td>230870</td>\n",
       "    </tr>\n",
       "    <tr>\n",
       "      <th>5</th>\n",
       "      <td>2021-09-09</td>\n",
       "      <td>19400</td>\n",
       "      <td>19700</td>\n",
       "      <td>19350</td>\n",
       "      <td>19600</td>\n",
       "      <td>141276</td>\n",
       "    </tr>\n",
       "    <tr>\n",
       "      <th>6</th>\n",
       "      <td>2021-09-08</td>\n",
       "      <td>19250</td>\n",
       "      <td>19500</td>\n",
       "      <td>19200</td>\n",
       "      <td>19500</td>\n",
       "      <td>153052</td>\n",
       "    </tr>\n",
       "    <tr>\n",
       "      <th>7</th>\n",
       "      <td>2021-09-07</td>\n",
       "      <td>19400</td>\n",
       "      <td>19400</td>\n",
       "      <td>19200</td>\n",
       "      <td>19350</td>\n",
       "      <td>55682</td>\n",
       "    </tr>\n",
       "    <tr>\n",
       "      <th>8</th>\n",
       "      <td>2021-09-06</td>\n",
       "      <td>19250</td>\n",
       "      <td>19400</td>\n",
       "      <td>19200</td>\n",
       "      <td>19400</td>\n",
       "      <td>64933</td>\n",
       "    </tr>\n",
       "    <tr>\n",
       "      <th>9</th>\n",
       "      <td>2021-09-03</td>\n",
       "      <td>19150</td>\n",
       "      <td>19400</td>\n",
       "      <td>19100</td>\n",
       "      <td>19300</td>\n",
       "      <td>141864</td>\n",
       "    </tr>\n",
       "  </tbody>\n",
       "</table>\n",
       "</div>"
      ],
      "text/plain": [
       "        date   open   high    low  close   value\n",
       "0 2021-09-16  21300  21500  21250  21500    5801\n",
       "1 2021-09-15  21250  21500  20950  21300  188349\n",
       "2 2021-09-14  20550  21300  20550  21200  315382\n",
       "3 2021-09-13  20100  20500  20100  20450  212387\n",
       "4 2021-09-10  19650  20150  19550  20100  230870\n",
       "5 2021-09-09  19400  19700  19350  19600  141276\n",
       "6 2021-09-08  19250  19500  19200  19500  153052\n",
       "7 2021-09-07  19400  19400  19200  19350   55682\n",
       "8 2021-09-06  19250  19400  19200  19400   64933\n",
       "9 2021-09-03  19150  19400  19100  19300  141864"
      ]
     },
     "metadata": {},
     "execution_count": 23
    }
   ],
   "metadata": {}
  },
  {
   "cell_type": "markdown",
   "source": [
    "df.set_index(df['date'], inplace=True)"
   ],
   "metadata": {}
  }
 ],
 "metadata": {
  "orig_nbformat": 4,
  "language_info": {
   "name": "python",
   "version": "3.7.10",
   "mimetype": "text/x-python",
   "codemirror_mode": {
    "name": "ipython",
    "version": 3
   },
   "pygments_lexer": "ipython3",
   "nbconvert_exporter": "python",
   "file_extension": ".py"
  },
  "kernelspec": {
   "name": "python3",
   "display_name": "Python 3.7.10 32-bit ('py37_32': conda)"
  },
  "interpreter": {
   "hash": "c271ceb8919d18ea694b98be402c9a410cb748b8695b62e35a36db49454c2c62"
  }
 },
 "nbformat": 4,
 "nbformat_minor": 2
}