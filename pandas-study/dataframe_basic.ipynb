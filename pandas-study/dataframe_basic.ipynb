{
 "cells": [
  {
   "cell_type": "code",
   "execution_count": 1,
   "source": [
    "from pandas import Series, DataFrame"
   ],
   "outputs": [],
   "metadata": {}
  },
  {
   "cell_type": "code",
   "execution_count": 4,
   "source": [
    "raw_data = {'col0': [1, 2, 3, 4],\r\n",
    "            'col1': [10, 20, 30, 40],\r\n",
    "            'col2': [100, 200, 300, 400]}\r\n",
    "data = DataFrame(raw_data)\r\n",
    "print(data)"
   ],
   "outputs": [
    {
     "output_type": "stream",
     "name": "stdout",
     "text": [
      "   col0  col1  col2\n",
      "0     1    10   100\n",
      "1     2    20   200\n",
      "2     3    30   300\n",
      "3     4    40   400\n"
     ]
    }
   ],
   "metadata": {}
  },
  {
   "cell_type": "markdown",
   "source": [
    "컬럼별 값 추출가능하며 이때 반환값은 Series 객체이다."
   ],
   "metadata": {}
  },
  {
   "cell_type": "code",
   "execution_count": 6,
   "source": [
    "print(data['col1'])"
   ],
   "outputs": [
    {
     "output_type": "stream",
     "name": "stdout",
     "text": [
      "0    10\n",
      "1    20\n",
      "2    30\n",
      "3    40\n",
      "Name: col1, dtype: int64\n"
     ]
    }
   ],
   "metadata": {}
  },
  {
   "cell_type": "code",
   "execution_count": 10,
   "source": [
    "raw_data = {'col0': [1, 2, 3, 4],\r\n",
    "          'col1': [10, 20, 30, 40],\r\n",
    "          'col2': [100, 200, 300, 400]}\r\n",
    "data = DataFrame(raw_data, index=['2016-02-19',\r\n",
    "    '2016-02-18',\r\n",
    "    '2016-02-17',\r\n",
    "    '2016-02-15'])"
   ],
   "outputs": [],
   "metadata": {}
  },
  {
   "cell_type": "code",
   "execution_count": 11,
   "source": [
    "# 각 컬럼 값의 index는 DataFrame의 index와 동일함\r\n",
    "print(data['col1'])\r\n",
    "print(data['col2'])"
   ],
   "outputs": [
    {
     "output_type": "stream",
     "name": "stdout",
     "text": [
      "2016-02-19    10\n",
      "2016-02-18    20\n",
      "2016-02-17    30\n",
      "2016-02-15    40\n",
      "Name: col1, dtype: int64\n",
      "2016-02-19    100\n",
      "2016-02-18    200\n",
      "2016-02-17    300\n",
      "2016-02-15    400\n",
      "Name: col2, dtype: int64\n"
     ]
    }
   ],
   "metadata": {}
  },
  {
   "cell_type": "code",
   "execution_count": 12,
   "source": [
    "daeshin = {'open':  [11650, 11100, 11200, 11100, 11000],\r\n",
    "           'high':  [12100, 11800, 11200, 11100, 11150],\r\n",
    "           'low' :  [11600, 11050, 10900, 10950, 10900],\r\n",
    "           'close': [11900, 11600, 11000, 11100, 11050]}\r\n",
    "\r\n",
    "date = ['16.02.29', '16.02.26', '16.02.25', '16.02.24', '16.02.23']\r\n",
    "daeshin_day = DataFrame(daeshin, columns=['open', 'high', 'low', 'close'], index=date)\r\n",
    "print(daeshin_day)"
   ],
   "outputs": [
    {
     "output_type": "stream",
     "name": "stdout",
     "text": [
      "           open   high    low  close\n",
      "16.02.29  11650  12100  11600  11900\n",
      "16.02.26  11100  11800  11050  11600\n",
      "16.02.25  11200  11200  10900  11000\n",
      "16.02.24  11100  11100  10950  11100\n",
      "16.02.23  11000  11150  10900  11050\n"
     ]
    }
   ],
   "metadata": {}
  },
  {
   "cell_type": "code",
   "execution_count": 18,
   "source": [
    "# 객체의 row 접근은 loc 프로퍼티를 통해서\r\n",
    "print(daeshin_day.loc['16.02.24'])\r\n",
    "print(type(daeshin_day.loc['16.02.24']))\r\n",
    "print(daeshin_day.loc['16.02.24'][1])"
   ],
   "outputs": [
    {
     "output_type": "stream",
     "name": "stdout",
     "text": [
      "open     11100\n",
      "high     11100\n",
      "low      10950\n",
      "close    11100\n",
      "Name: 16.02.24, dtype: int64\n",
      "<class 'pandas.core.series.Series'>\n",
      "11100\n"
     ]
    }
   ],
   "metadata": {}
  }
 ],
 "metadata": {
  "orig_nbformat": 4,
  "language_info": {
   "name": "python",
   "version": "3.7.10",
   "mimetype": "text/x-python",
   "codemirror_mode": {
    "name": "ipython",
    "version": 3
   },
   "pygments_lexer": "ipython3",
   "nbconvert_exporter": "python",
   "file_extension": ".py"
  },
  "kernelspec": {
   "name": "python3",
   "display_name": "Python 3.7.10 32-bit ('py37_32': conda)"
  },
  "interpreter": {
   "hash": "c271ceb8919d18ea694b98be402c9a410cb748b8695b62e35a36db49454c2c62"
  }
 },
 "nbformat": 4,
 "nbformat_minor": 2
}