{
 "cells": [
  {
   "cell_type": "code",
   "execution_count": 1,
   "metadata": {},
   "outputs": [],
   "source": [
    "from pandas import Series, DataFrame"
   ]
  },
  {
   "cell_type": "code",
   "execution_count": 4,
   "metadata": {},
   "outputs": [
    {
     "name": "stdout",
     "output_type": "stream",
     "text": [
      "   col0  col1  col2\n",
      "0     1    10   100\n",
      "1     2    20   200\n",
      "2     3    30   300\n",
      "3     4    40   400\n"
     ]
    }
   ],
   "source": [
    "raw_data = {'col0': [1, 2, 3, 4],\n",
    "            'col1': [10, 20, 30, 40],\n",
    "            'col2': [100, 200, 300, 400]}\n",
    "data = DataFrame(raw_data)\n",
    "print(data)"
   ]
  },
  {
   "cell_type": "markdown",
   "metadata": {},
   "source": [
    "컬럼별 값 추출가능하며 이때 반환값은 Series 객체이다."
   ]
  },
  {
   "cell_type": "code",
   "execution_count": 6,
   "metadata": {},
   "outputs": [
    {
     "name": "stdout",
     "output_type": "stream",
     "text": [
      "0    10\n",
      "1    20\n",
      "2    30\n",
      "3    40\n",
      "Name: col1, dtype: int64\n"
     ]
    }
   ],
   "source": [
    "print(data['col1'])"
   ]
  },
  {
   "cell_type": "code",
   "execution_count": 10,
   "metadata": {},
   "outputs": [],
   "source": [
    "raw_data = {'col0': [1, 2, 3, 4],\n",
    "          'col1': [10, 20, 30, 40],\n",
    "          'col2': [100, 200, 300, 400]}\n",
    "data = DataFrame(raw_data, index=['2016-02-19',\n",
    "    '2016-02-18',\n",
    "    '2016-02-17',\n",
    "    '2016-02-15'])"
   ]
  },
  {
   "cell_type": "code",
   "execution_count": 11,
   "metadata": {},
   "outputs": [
    {
     "name": "stdout",
     "output_type": "stream",
     "text": [
      "2016-02-19    10\n",
      "2016-02-18    20\n",
      "2016-02-17    30\n",
      "2016-02-15    40\n",
      "Name: col1, dtype: int64\n",
      "2016-02-19    100\n",
      "2016-02-18    200\n",
      "2016-02-17    300\n",
      "2016-02-15    400\n",
      "Name: col2, dtype: int64\n"
     ]
    }
   ],
   "source": [
    "# 각 컬럼 값의 index는 DataFrame의 index와 동일함\n",
    "print(data['col1'])\n",
    "print(data['col2'])"
   ]
  },
  {
   "cell_type": "code",
   "execution_count": 12,
   "metadata": {},
   "outputs": [
    {
     "name": "stdout",
     "output_type": "stream",
     "text": [
      "           open   high    low  close\n",
      "16.02.29  11650  12100  11600  11900\n",
      "16.02.26  11100  11800  11050  11600\n",
      "16.02.25  11200  11200  10900  11000\n",
      "16.02.24  11100  11100  10950  11100\n",
      "16.02.23  11000  11150  10900  11050\n"
     ]
    }
   ],
   "source": [
    "daeshin = {'open':  [11650, 11100, 11200, 11100, 11000],\n",
    "           'high':  [12100, 11800, 11200, 11100, 11150],\n",
    "           'low' :  [11600, 11050, 10900, 10950, 10900],\n",
    "           'close': [11900, 11600, 11000, 11100, 11050]}\n",
    "\n",
    "date = ['16.02.29', '16.02.26', '16.02.25', '16.02.24', '16.02.23']\n",
    "daeshin_day = DataFrame(daeshin, columns=['open', 'high', 'low', 'close'], index=date)\n",
    "print(daeshin_day)"
   ]
  },
  {
   "cell_type": "code",
   "execution_count": 18,
   "metadata": {},
   "outputs": [
    {
     "name": "stdout",
     "output_type": "stream",
     "text": [
      "open     11100\n",
      "high     11100\n",
      "low      10950\n",
      "close    11100\n",
      "Name: 16.02.24, dtype: int64\n",
      "<class 'pandas.core.series.Series'>\n",
      "11100\n"
     ]
    }
   ],
   "source": [
    "# 객체의 row 접근은 loc 프로퍼티를 통해서\n",
    "print(daeshin_day.loc['16.02.24'])\n",
    "print(type(daeshin_day.loc['16.02.24']))\n",
    "print(daeshin_day.loc['16.02.24'][1])"
   ]
  },
  {
   "cell_type": "code",
   "execution_count": 6,
   "metadata": {},
   "outputs": [
    {
     "name": "stdout",
     "output_type": "stream",
     "text": [
      "\n",
      "    case SM_PowerOff:\n",
      "        on_SM_PowerOff();\n",
      "        break;\n",
      "\n",
      "    case SM_CheckModem:\n",
      "        on_SM_CheckModem();\n",
      "        break;\n",
      "\n",
      "    case SM_GetGPSInfo:\n",
      "        on_SM_GetGPSInfo();\n",
      "        break;\n",
      "\n",
      "    case SM_CheckLTE:\n",
      "        on_SM_CheckLTE();\n",
      "        break;\n",
      "\n",
      "    case SM_WaitRandomTime:\n",
      "        on_SM_WaitRandomTime();\n",
      "        break;\n",
      "\n",
      "    case SM_MQTTSetup:\n",
      "        on_SM_MQTTSetup();\n",
      "        break;\n",
      "\n",
      "    case SM_ReadData:\n",
      "        on_SM_ReadData();\n",
      "        break;\n",
      "\n",
      "    case SM_MQTTPush:\n",
      "        on_SM_MQTTPush();\n",
      "        break;\n",
      "\n",
      "    case SM_Idle:\n",
      "        on_SM_Idle();\n",
      "        break;\n",
      "\n",
      "    case SM_ErrorDelay:\n",
      "        on_SM_ErrorDelay();\n",
      "        break;\n",
      "\n",
      "    case SM_ModemReboot:\n",
      "        on_SM_ModemReboot();\n",
      "        break;\n"
     ]
    }
   ],
   "source": [
    "_sm_names = [\n",
    "    \"SM_PowerOff\",\n",
    "    \"SM_CheckModem\",\n",
    "    \"SM_GetGPSInfo\",\n",
    "    \"SM_CheckLTE\",\n",
    "    \"SM_WaitRandomTime\",\n",
    "    \"SM_MQTTSetup\",\n",
    "    \"SM_ReadData\",\n",
    "    \"SM_MQTTPush\",\n",
    "    \"SM_Idle\",\n",
    "    \"SM_ErrorDelay\",\n",
    "    \"SM_ModemReboot\",\n",
    "]\n",
    "for sm in _sm_names:\n",
    "    print(\"\"\"\n",
    "    case %s:\n",
    "        on_%s();\n",
    "        break;\"\"\" % (sm, sm))"
   ]
  },
  {
   "cell_type": "code",
   "execution_count": 7,
   "metadata": {},
   "outputs": [
    {
     "name": "stdout",
     "output_type": "stream",
     "text": [
      "    on_SM_PowerOff,\n",
      "    on_SM_CheckModem,\n",
      "    on_SM_GetGPSInfo,\n",
      "    on_SM_CheckLTE,\n",
      "    on_SM_WaitRandomTime,\n",
      "    on_SM_MQTTSetup,\n",
      "    on_SM_ReadData,\n",
      "    on_SM_MQTTPush,\n",
      "    on_SM_Idle,\n",
      "    on_SM_ErrorDelay,\n",
      "    on_SM_ModemReboot,\n"
     ]
    }
   ],
   "source": [
    "for sm in _sm_names:\n",
    "    print(\"    on_%s,\" % (sm))"
   ]
  }
 ],
 "metadata": {
  "interpreter": {
   "hash": "e5f8f66c887f2be7b0bececde81327fd2952d9e3a1ef604f6af568c2d2567207"
  },
  "kernelspec": {
   "display_name": "Python 3.9.7 ('py37_32')",
   "language": "python",
   "name": "python3"
  },
  "language_info": {
   "codemirror_mode": {
    "name": "ipython",
    "version": 3
   },
   "file_extension": ".py",
   "mimetype": "text/x-python",
   "name": "python",
   "nbconvert_exporter": "python",
   "pygments_lexer": "ipython3",
   "version": "3.9.7"
  },
  "orig_nbformat": 4
 },
 "nbformat": 4,
 "nbformat_minor": 2
}
