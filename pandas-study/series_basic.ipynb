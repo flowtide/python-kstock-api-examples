{
 "cells": [
  {
   "cell_type": "code",
   "execution_count": 8,
   "source": [
    "from pandas import Series, DataFrame"
   ],
   "outputs": [],
   "metadata": {}
  },
  {
   "cell_type": "markdown",
   "source": [
    "Series는 인덱스를 별도로 지정하지 않으면 0부터 시작하는 정수값으로 인덱싱을 한다.\r\n",
    "객체 접근은 List와 같은 형태로 한다."
   ],
   "metadata": {}
  },
  {
   "cell_type": "code",
   "execution_count": 9,
   "source": [
    "kakao = Series([92600, 92400, 92100, 94300, 92300])\r\n",
    "print(kakao)"
   ],
   "outputs": [
    {
     "output_type": "stream",
     "name": "stdout",
     "text": [
      "0    92600\n",
      "1    92400\n",
      "2    92100\n",
      "3    94300\n",
      "4    92300\n",
      "dtype: int64\n"
     ]
    }
   ],
   "metadata": {}
  },
  {
   "cell_type": "code",
   "execution_count": 10,
   "source": [
    "kakao[0]"
   ],
   "outputs": [
    {
     "output_type": "execute_result",
     "data": {
      "text/plain": [
       "92600"
      ]
     },
     "metadata": {},
     "execution_count": 10
    }
   ],
   "metadata": {}
  },
  {
   "cell_type": "markdown",
   "source": [
    "### 인덱스값을 지정하는 방법"
   ],
   "metadata": {}
  },
  {
   "cell_type": "code",
   "execution_count": 11,
   "source": [
    "kakao2 = Series([92600, 92400, 92100, 94300, 92300], index=['2016-02-19',\r\n",
    "                                                            '2016-02-18',\r\n",
    "                                                            '2016-02-17',\r\n",
    "                                                            '2016-02-16',\r\n",
    "                                                            '2016-02-15'])\r\n",
    "print(kakao2)"
   ],
   "outputs": [
    {
     "output_type": "stream",
     "name": "stdout",
     "text": [
      "2016-02-19    92600\n",
      "2016-02-18    92400\n",
      "2016-02-17    92100\n",
      "2016-02-16    94300\n",
      "2016-02-15    92300\n",
      "dtype: int64\n"
     ]
    }
   ],
   "metadata": {}
  },
  {
   "cell_type": "code",
   "execution_count": 14,
   "source": [
    "print(kakao2['2016-02-16'])"
   ],
   "outputs": [
    {
     "output_type": "stream",
     "name": "stdout",
     "text": [
      "94300\n"
     ]
    }
   ],
   "metadata": {}
  },
  {
   "cell_type": "code",
   "execution_count": 15,
   "source": [
    "print('index:', kakao2.index)\r\n",
    "print('values:', kakao2.values)"
   ],
   "outputs": [
    {
     "output_type": "stream",
     "name": "stdout",
     "text": [
      "index: Index(['2016-02-19', '2016-02-18', '2016-02-17', '2016-02-16', '2016-02-15'], dtype='object')\n",
      "values: [92600 92400 92100 94300 92300]\n"
     ]
    }
   ],
   "metadata": {}
  },
  {
   "cell_type": "markdown",
   "source": [
    "서로 다르게 인덱싱하는 경우에도 알아서 덧셈 연산을 해준다."
   ],
   "metadata": {}
  },
  {
   "cell_type": "code",
   "execution_count": 17,
   "source": [
    "mine   = Series([10, 20, 30], index=['naver', 'sk', 'kt'])\r\n",
    "friend = Series([10, 5, 10], index=['kt', 'naver', 'sk'])\r\n",
    "merge = mine + friend\r\n",
    "print(merge)"
   ],
   "outputs": [
    {
     "output_type": "stream",
     "name": "stdout",
     "text": [
      "kt       40\n",
      "naver    15\n",
      "sk       30\n",
      "dtype: int64\n"
     ]
    }
   ],
   "metadata": {}
  },
  {
   "cell_type": "code",
   "execution_count": 18,
   "source": [
    "mine   = Series([10, 20, 30], index=['naver', 'sk', 'kt'])\r\n",
    "friend = Series([10, 5, 10], index=['kt', 'naver', 'lgu'])\r\n",
    "merge = mine + friend\r\n",
    "print(merge)"
   ],
   "outputs": [
    {
     "output_type": "stream",
     "name": "stdout",
     "text": [
      "kt       40.0\n",
      "lgu       NaN\n",
      "naver    15.0\n",
      "sk        NaN\n",
      "dtype: float64\n"
     ]
    }
   ],
   "metadata": {}
  }
 ],
 "metadata": {
  "orig_nbformat": 4,
  "language_info": {
   "name": "python",
   "version": "3.7.10",
   "mimetype": "text/x-python",
   "codemirror_mode": {
    "name": "ipython",
    "version": 3
   },
   "pygments_lexer": "ipython3",
   "nbconvert_exporter": "python",
   "file_extension": ".py"
  },
  "kernelspec": {
   "name": "python3",
   "display_name": "Python 3.7.10 32-bit ('py37_32': conda)"
  },
  "interpreter": {
   "hash": "c271ceb8919d18ea694b98be402c9a410cb748b8695b62e35a36db49454c2c62"
  }
 },
 "nbformat": 4,
 "nbformat_minor": 2
}